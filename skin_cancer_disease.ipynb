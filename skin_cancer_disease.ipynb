{
 "cells": [
  {
   "cell_type": "markdown",
   "id": "8248d63e-c6a2-4716-ba83-03b771071065",
   "metadata": {},
   "source": [
    "# Problem:- \n",
    "## I have a image dataset of skin cancer disease. I have to trained a model than can identify class of cancer disease."
   ]
  },
  {
   "cell_type": "markdown",
   "id": "5cb9c89f-9b47-4b33-834c-7dded349810b",
   "metadata": {},
   "source": [
    "# import library"
   ]
  },
  {
   "cell_type": "code",
   "execution_count": 1,
   "id": "7df63315-a99c-46e0-b611-c9594044d2d7",
   "metadata": {},
   "outputs": [],
   "source": [
    "import torch\n",
    "import torch.nn as nn\n",
    "import torch.optim as optim\n",
    "import torchvision\n",
    "from torchvision import datasets, transforms\n",
    "from torch.utils.data import DataLoader\n",
    "from pathlib import Path\n",
    "\n",
    "from sklearn.preprocessing import label_binarize\n",
    "from sklearn.metrics import roc_curve, auc\n",
    "import matplotlib.pyplot as plt\n",
    "import numpy as np\n",
    "\n",
    "from sklearn.metrics import classification_report, confusion_matrix\n"
   ]
  },
  {
   "cell_type": "markdown",
   "id": "81d8a7fa-646b-4e69-9d33-6a155125b5f4",
   "metadata": {},
   "source": [
    "# device Agnostic code"
   ]
  },
  {
   "cell_type": "code",
   "execution_count": 2,
   "id": "e622c474-6813-4ab8-a92b-67dee8e6983b",
   "metadata": {},
   "outputs": [],
   "source": [
    "device = torch.device(\"cuda\" if torch.cuda.is_available() else \"cpu\")"
   ]
  },
  {
   "cell_type": "markdown",
   "id": "1284fbff-6ebb-4975-a03c-8941a9005f19",
   "metadata": {},
   "source": [
    "# Data loading and Transformation."
   ]
  },
  {
   "cell_type": "code",
   "execution_count": 3,
   "id": "59370573-b09b-4789-a322-67cdac561c6a",
   "metadata": {},
   "outputs": [],
   "source": [
    "train_dir = Path(\"C:\\\\Users\\\\BKJST\\\\Desktop\\\\python\\\\Project\\\\skin disease\\\\output_dataset\\\\train\")\n",
    "test_dir = Path(\"C:\\\\Users\\\\BKJST\\\\Desktop\\\\python\\\\Project\\\\skin disease\\\\output_dataset\\\\val\")"
   ]
  },
  {
   "cell_type": "code",
   "execution_count": 4,
   "id": "64a4040a-d099-497f-bec7-4051f7dc13cd",
   "metadata": {},
   "outputs": [],
   "source": [
    "train_transform = transforms.Compose(\n",
    "    [\n",
    "        transforms.Resize((64,64)),\n",
    "        # transforms.RandomResizedCrop(224),\n",
    "        transforms.RandomHorizontalFlip(),\n",
    "        transforms.RandomRotation(15),\n",
    "        transforms.ColorJitter(brightness=0.2, contrast =0.2, saturation=0.2),\n",
    "        transforms.ToTensor(),\n",
    "        transforms.Normalize(mean=[0.5,0.5,0.5], std = [0.22, 0.22, 0.22]),\n",
    "    ]\n",
    ")\n",
    "\n",
    "test_transform = transforms.Compose(\n",
    "    [\n",
    "        transforms.Resize((64,64)),\n",
    "        transforms.ToTensor(),\n",
    "        transforms.Normalize(mean=[0.5,0.5,0.5], std = [0.22, 0.22, 0.22])\n",
    "    ]\n",
    ")"
   ]
  },
  {
   "cell_type": "code",
   "execution_count": 5,
   "id": "66a03152-b9c4-4c61-b5b8-f26c65b0e017",
   "metadata": {},
   "outputs": [
    {
     "data": {
      "text/plain": [
       "(Dataset ImageFolder\n",
       "     Number of datapoints: 3285\n",
       "     Root location: C:\\Users\\BKJST\\Desktop\\python\\Project\\skin disease\\output_dataset\\train\n",
       "     StandardTransform\n",
       " Transform: Compose(\n",
       "                Resize(size=(64, 64), interpolation=bilinear, max_size=None, antialias=True)\n",
       "                RandomHorizontalFlip(p=0.5)\n",
       "                RandomRotation(degrees=[-15.0, 15.0], interpolation=nearest, expand=False, fill=0)\n",
       "                ColorJitter(brightness=(0.8, 1.2), contrast=(0.8, 1.2), saturation=(0.8, 1.2), hue=None)\n",
       "                ToTensor()\n",
       "                Normalize(mean=[0.5, 0.5, 0.5], std=[0.22, 0.22, 0.22])\n",
       "            ),\n",
       " Dataset ImageFolder\n",
       "     Number of datapoints: 822\n",
       "     Root location: C:\\Users\\BKJST\\Desktop\\python\\Project\\skin disease\\output_dataset\\val\n",
       "     StandardTransform\n",
       " Transform: Compose(\n",
       "                Resize(size=(64, 64), interpolation=bilinear, max_size=None, antialias=True)\n",
       "                ToTensor()\n",
       "                Normalize(mean=[0.5, 0.5, 0.5], std=[0.22, 0.22, 0.22])\n",
       "            ))"
      ]
     },
     "execution_count": 5,
     "metadata": {},
     "output_type": "execute_result"
    }
   ],
   "source": [
    "train_dataset = datasets.ImageFolder(train_dir,\n",
    "                                                 transform = train_transform)\n",
    "test_dataset = datasets.ImageFolder(test_dir,\n",
    "                                                transform = test_transform)\n",
    "train_dataset, test_dataset"
   ]
  },
  {
   "cell_type": "code",
   "execution_count": 6,
   "id": "d97a2b0c-597e-4a92-a1a1-dd4be07efd2e",
   "metadata": {},
   "outputs": [],
   "source": [
    "train_dataloader = DataLoader(train_dataset, batch_size = 256, shuffle = True, num_workers = 0)\n",
    "test_dataloader = DataLoader(test_dataset, batch_size = 256, shuffle = False, num_workers = 0)"
   ]
  },
  {
   "cell_type": "code",
   "execution_count": 7,
   "id": "c3aaa5c9-6a58-4a45-9145-c8135bf00724",
   "metadata": {},
   "outputs": [],
   "source": [
    "class CNNModel(nn.Module):\n",
    "    def __init__(self, input_shape:int, hidden_units:int, output_shape:int)->None:\n",
    "        super().__init__()\n",
    "        self.conv_block_1 = nn.Sequential(\n",
    "            nn.Conv2d(input_shape, hidden_units, kernel_size=3, stride=1, padding=1),\n",
    "            nn.BatchNorm2d(hidden_units),\n",
    "            nn.ReLU(),\n",
    "            nn.Conv2d(hidden_units, hidden_units, kernel_size=3, stride=1, padding=1),\n",
    "            nn.BatchNorm2d(hidden_units),\n",
    "            nn.ReLU(),\n",
    "            nn.MaxPool2d(kernel_size=2, stride=2)\n",
    "        )\n",
    "\n",
    "        self.conv_block_2 = nn.Sequential(\n",
    "            nn.Conv2d(hidden_units, hidden_units, kernel_size=3, stride=1, padding=1),\n",
    "            nn.BatchNorm2d(hidden_units),\n",
    "            nn.ReLU(),\n",
    "            nn.Conv2d(hidden_units, hidden_units, kernel_size=3, stride=1, padding=1),\n",
    "            nn.BatchNorm2d(hidden_units),\n",
    "            nn.ReLU(),\n",
    "            nn.MaxPool2d(kernel_size=2, stride=2)\n",
    "        )\n",
    "\n",
    "        self.global_pool = nn.AdaptiveAvgPool2d((1, 1))\n",
    "        self.classifier = nn.Sequential(\n",
    "            nn.Flatten(),\n",
    "            nn.Linear(in_features=hidden_units, out_features=output_shape)\n",
    "        )\n",
    "\n",
    "    def forward(self, x):\n",
    "        x = self.conv_block_1(x)\n",
    "        x = self.conv_block_2(x)\n",
    "        x = self.global_pool(x)          # (batch, hidden_units, 1, 1)\n",
    "        x = torch.flatten(x, 1)          # (batch, hidden_units)\n",
    "        x = self.classifier(x)\n",
    "        return x\n"
   ]
  },
  {
   "cell_type": "code",
   "execution_count": 8,
   "id": "acd5b00a-9164-4227-8e00-5f7a14e5f3ff",
   "metadata": {},
   "outputs": [
    {
     "data": {
      "text/plain": [
       "{'Acitinic Keratosis': 0,\n",
       " 'Basal Cell Carcinoma': 1,\n",
       " 'Dermatofibroma': 2,\n",
       " 'Melanoma': 3,\n",
       " 'Nevus': 4,\n",
       " 'Pigmented Benign Keratosis': 5,\n",
       " 'Seborrheic Keratosis': 6,\n",
       " 'Squamous Cell Carcinoma': 7,\n",
       " 'Vascular Lesion': 8}"
      ]
     },
     "execution_count": 8,
     "metadata": {},
     "output_type": "execute_result"
    }
   ],
   "source": [
    "# class names and their index\n",
    "class_to_idx = train_dataset.class_to_idx\n",
    "class_to_idx"
   ]
  },
  {
   "cell_type": "code",
   "execution_count": 9,
   "id": "33b5b94b-0413-4f43-99a2-d2af2d369bbf",
   "metadata": {},
   "outputs": [
    {
     "data": {
      "text/plain": [
       "['Acitinic Keratosis',\n",
       " 'Basal Cell Carcinoma',\n",
       " 'Dermatofibroma',\n",
       " 'Melanoma',\n",
       " 'Nevus',\n",
       " 'Pigmented Benign Keratosis',\n",
       " 'Seborrheic Keratosis',\n",
       " 'Squamous Cell Carcinoma',\n",
       " 'Vascular Lesion']"
      ]
     },
     "execution_count": 9,
     "metadata": {},
     "output_type": "execute_result"
    }
   ],
   "source": [
    "# number of classes or class names.\n",
    "num_classes = train_dataset.classes\n",
    "num_classes"
   ]
  },
  {
   "cell_type": "code",
   "execution_count": 10,
   "id": "172913a8-f4c1-4693-8ad4-90576b781d5f",
   "metadata": {},
   "outputs": [
    {
     "data": {
      "text/plain": [
       "CNNModel(\n",
       "  (conv_block_1): Sequential(\n",
       "    (0): Conv2d(3, 32, kernel_size=(3, 3), stride=(1, 1), padding=(1, 1))\n",
       "    (1): BatchNorm2d(32, eps=1e-05, momentum=0.1, affine=True, track_running_stats=True)\n",
       "    (2): ReLU()\n",
       "    (3): Conv2d(32, 32, kernel_size=(3, 3), stride=(1, 1), padding=(1, 1))\n",
       "    (4): BatchNorm2d(32, eps=1e-05, momentum=0.1, affine=True, track_running_stats=True)\n",
       "    (5): ReLU()\n",
       "    (6): MaxPool2d(kernel_size=2, stride=2, padding=0, dilation=1, ceil_mode=False)\n",
       "  )\n",
       "  (conv_block_2): Sequential(\n",
       "    (0): Conv2d(32, 32, kernel_size=(3, 3), stride=(1, 1), padding=(1, 1))\n",
       "    (1): BatchNorm2d(32, eps=1e-05, momentum=0.1, affine=True, track_running_stats=True)\n",
       "    (2): ReLU()\n",
       "    (3): Conv2d(32, 32, kernel_size=(3, 3), stride=(1, 1), padding=(1, 1))\n",
       "    (4): BatchNorm2d(32, eps=1e-05, momentum=0.1, affine=True, track_running_stats=True)\n",
       "    (5): ReLU()\n",
       "    (6): MaxPool2d(kernel_size=2, stride=2, padding=0, dilation=1, ceil_mode=False)\n",
       "  )\n",
       "  (global_pool): AdaptiveAvgPool2d(output_size=(1, 1))\n",
       "  (classifier): Sequential(\n",
       "    (0): Flatten(start_dim=1, end_dim=-1)\n",
       "    (1): Linear(in_features=32, out_features=9, bias=True)\n",
       "  )\n",
       ")"
      ]
     },
     "execution_count": 10,
     "metadata": {},
     "output_type": "execute_result"
    }
   ],
   "source": [
    "# model varible\n",
    "cnn_model = CNNModel(input_shape = 3,\n",
    "                     output_shape = len(num_classes),\n",
    "                     hidden_units = 32).to(device)\n",
    "cnn_model"
   ]
  },
  {
   "cell_type": "code",
   "execution_count": 11,
   "id": "3630e2db-0351-4fec-92cf-3c8a0a59bbc8",
   "metadata": {},
   "outputs": [],
   "source": [
    "import os\n",
    "def count_length(path):\n",
    "    count = 0\n",
    "    for root, dirs, files in os.walk(path):\n",
    "        for file in files:\n",
    "            if file.lower().endswith(('.jpg')):\n",
    "                count += 1\n",
    "    return count\n",
    "\n"
   ]
  },
  {
   "cell_type": "markdown",
   "id": "e1574beb-267c-4db4-af17-0dc6cc19b90c",
   "metadata": {},
   "source": [
    "# check length of train and test dataset."
   ]
  },
  {
   "cell_type": "code",
   "execution_count": 91,
   "id": "94c0824b-2df4-46a1-aa46-e2b640d1f23d",
   "metadata": {},
   "outputs": [
    {
     "data": {
      "text/plain": [
       "(3285, 822)"
      ]
     },
     "execution_count": 91,
     "metadata": {},
     "output_type": "execute_result"
    }
   ],
   "source": [
    "train_length = count_length(train_dir)\n",
    "test_length = count_length(test_dir)\n",
    "train_length, test_length"
   ]
  },
  {
   "cell_type": "markdown",
   "id": "ac5f4348-10b5-48b3-a2c8-6ebc20f52fd3",
   "metadata": {},
   "source": [
    "# Training Loop"
   ]
  },
  {
   "cell_type": "code",
   "execution_count": 92,
   "id": "154e4e83-1bce-4d7a-9cea-e6948f07aa8e",
   "metadata": {},
   "outputs": [
    {
     "data": {
      "application/vnd.jupyter.widget-view+json": {
       "model_id": "176aa94cf5e542f1b3a11b51c6830c51",
       "version_major": 2,
       "version_minor": 0
      },
      "text/plain": [
       "  0%|          | 0/10 [00:00<?, ?it/s]"
      ]
     },
     "metadata": {},
     "output_type": "display_data"
    },
    {
     "name": "stdout",
     "output_type": "stream",
     "text": [
      "Epoch 1 | Train Loss: 0.0085 | Test Loss: 0.0027 | Test Accuracy: 11.19%\n",
      "--------------------------------------------------\n",
      "Epoch 2 | Train Loss: 0.0080 | Test Loss: 0.0028 | Test Accuracy: 28.10%\n",
      "--------------------------------------------------\n",
      "Epoch 3 | Train Loss: 0.0078 | Test Loss: 0.0029 | Test Accuracy: 26.76%\n",
      "--------------------------------------------------\n",
      "Epoch 4 | Train Loss: 0.0076 | Test Loss: 0.0029 | Test Accuracy: 32.36%\n",
      "--------------------------------------------------\n",
      "Epoch 5 | Train Loss: 0.0075 | Test Loss: 0.0031 | Test Accuracy: 31.14%\n",
      "--------------------------------------------------\n",
      "Epoch 6 | Train Loss: 0.0074 | Test Loss: 0.0027 | Test Accuracy: 33.94%\n",
      "--------------------------------------------------\n",
      "Epoch 7 | Train Loss: 0.0073 | Test Loss: 0.0028 | Test Accuracy: 35.04%\n",
      "--------------------------------------------------\n",
      "Epoch 8 | Train Loss: 0.0072 | Test Loss: 0.0028 | Test Accuracy: 35.89%\n",
      "--------------------------------------------------\n",
      "Epoch 9 | Train Loss: 0.0071 | Test Loss: 0.0031 | Test Accuracy: 35.28%\n",
      "--------------------------------------------------\n",
      "Epoch 10 | Train Loss: 0.0070 | Test Loss: 0.0024 | Test Accuracy: 35.89%\n",
      "--------------------------------------------------\n"
     ]
    }
   ],
   "source": [
    "from tqdm.auto import tqdm\n",
    "\n",
    "criterion = nn.CrossEntropyLoss()\n",
    "optimizer = optim.Adam(cnn_model.parameters(), lr = 0.001)\n",
    "\n",
    "train_losses, val_losses = [],[]\n",
    "\n",
    "\n",
    "\n",
    "for epoch in tqdm(range(10)): # i tried appx 10-15 epochs. every time result is same around 40%.\n",
    "    cnn_model.train()\n",
    "    running_loss = 0\n",
    "    for images, labels in train_dataloader:\n",
    "        images, labels = images.to(device), labels.to(device)\n",
    "        optimizer.zero_grad()\n",
    "        output = cnn_model(images)\n",
    "        loss = criterion(output, labels)\n",
    "        loss.backward()\n",
    "        optimizer.step()\n",
    "        running_loss +=loss.item()\n",
    "        train_loss = running_loss/train_length # loss divided by total length\n",
    "    train_losses.append(train_loss)\n",
    "\n",
    "    # validation\n",
    "    cnn_model.eval()\n",
    "    val_loss = 0\n",
    "    correct = 0\n",
    "    with torch.no_grad():\n",
    "        for images, labels in test_dataloader:\n",
    "            images, labels = images.to(device), labels.to(device)\n",
    "            output = cnn_model(images)\n",
    "            val_loss += criterion(output, labels).item()\n",
    "            pred = output.argmax(dim=1)\n",
    "            correct += pred.eq(labels).sum().item()\n",
    "            val_loss = val_loss/ test_length # correct prediction divided by total test length\n",
    "    val_losses.append(val_loss)\n",
    "    print(f\"Epoch {epoch+1} | Train Loss: {train_loss:.4f} | Test Loss: {val_loss:.4f} | Test Accuracy: {correct/test_length*100:.2f}%\")\n",
    "    print(\"-\"*50)"
   ]
  },
  {
   "cell_type": "markdown",
   "id": "4a1f16a2-fd3b-4872-8c30-49d5dcfde244",
   "metadata": {},
   "source": [
    "#### i tried many times even many days with different different number of epochs. But the test accuracy is between 33-40.\n",
    "#### i think this is for less amount of dataset.\n",
    "#### later we will use other technique."
   ]
  },
  {
   "cell_type": "markdown",
   "id": "8f60db41-d62a-4a99-b826-58c4e3b6d36e",
   "metadata": {},
   "source": [
    "# Create a funciton to predict image."
   ]
  },
  {
   "cell_type": "code",
   "execution_count": 93,
   "id": "9f0c01db-7bdc-4670-919d-5079d35522f9",
   "metadata": {},
   "outputs": [],
   "source": [
    "def predict_image(image_path, model, transform, class_names, device=\"cuda\"):\n",
    "    model.eval()  # set to evaluation mode\n",
    "    image = Image.open(image_path).convert(\"RGB\")\n",
    "    img_tensor = transform(image).unsqueeze(0).to(device)  # add batch dim\n",
    "\n",
    "    with torch.no_grad():\n",
    "        outputs = model(img_tensor)\n",
    "        probs = torch.softmax(outputs, dim=1)\n",
    "        pred_class = probs.argmax(dim=1).item()\n",
    "\n",
    "    return class_names[pred_class], probs[0][pred_class].item()\n"
   ]
  },
  {
   "cell_type": "code",
   "execution_count": 94,
   "id": "4a51a8c4-e788-4da4-a167-8d5be6805188",
   "metadata": {},
   "outputs": [
    {
     "name": "stdout",
     "output_type": "stream",
     "text": [
      "Prediction: Melanoma (confidence: 0.22)\n"
     ]
    }
   ],
   "source": [
    "from PIL import Image\n",
    "import torch\n",
    "class_names = train_dataset.classes  # same order as during training\n",
    "# img_path = \"C:\\\\Users\\\\BKJST\\\\Desktop\\\\python\\\\Project\\\\skin disease\\\\output_dataset\\\\train\\\\Basal Cell Carcinoma\\\\ISIC_0070534.jpg\"\n",
    "img_path = 'C://Users//BKJST//Desktop//python//Project//skin disease//output_dataset//train//Dermatofibroma//ISIC_0060422.jpg'\n",
    "# img_path = \"C:\\\\Users\\\\BKJST\\\\Desktop\\\\python\\\\Project\\skin disease\\\\output_dataset\\\\val\\\\Melanoma\\\\ISIC_0036019.JPG\"\n",
    "pred, confidence = predict_image(img_path, cnn_model, test_transform, class_names, device)\n",
    "print(f\"Prediction: {pred} (confidence: {confidence:.2f})\")"
   ]
  },
  {
   "cell_type": "code",
   "execution_count": 95,
   "id": "1c9c2b10-f7a6-4567-a2f8-d030422b815b",
   "metadata": {
    "scrolled": true
   },
   "outputs": [
    {
     "data": {
      "text/plain": [
       "[WindowsPath('C:/Users/BKJST/Desktop/python/Project/skin disease/output_dataset/val/Acitinic Keratosis/ISIC_0053597.jpg'),\n",
       " WindowsPath('C:/Users/BKJST/Desktop/python/Project/skin disease/output_dataset/val/Acitinic Keratosis/ISIC_0053799.jpg'),\n",
       " WindowsPath('C:/Users/BKJST/Desktop/python/Project/skin disease/output_dataset/val/Acitinic Keratosis/ISIC_0053826.jpg'),\n",
       " WindowsPath('C:/Users/BKJST/Desktop/python/Project/skin disease/output_dataset/val/Acitinic Keratosis/ISIC_0053892.jpg'),\n",
       " WindowsPath('C:/Users/BKJST/Desktop/python/Project/skin disease/output_dataset/val/Acitinic Keratosis/ISIC_0053950.jpg'),\n",
       " WindowsPath('C:/Users/BKJST/Desktop/python/Project/skin disease/output_dataset/val/Acitinic Keratosis/ISIC_0054223.jpg'),\n",
       " WindowsPath('C:/Users/BKJST/Desktop/python/Project/skin disease/output_dataset/val/Acitinic Keratosis/ISIC_0054259.jpg'),\n",
       " WindowsPath('C:/Users/BKJST/Desktop/python/Project/skin disease/output_dataset/val/Acitinic Keratosis/ISIC_0054908.jpg'),\n",
       " WindowsPath('C:/Users/BKJST/Desktop/python/Project/skin disease/output_dataset/val/Acitinic Keratosis/ISIC_0054921.jpg'),\n",
       " WindowsPath('C:/Users/BKJST/Desktop/python/Project/skin disease/output_dataset/val/Acitinic Keratosis/ISIC_0055331.jpg')]"
      ]
     },
     "execution_count": 95,
     "metadata": {},
     "output_type": "execute_result"
    }
   ],
   "source": [
    "pathlist = list(test_dir.glob(\"*/*.jpg\"))\n",
    "pathlist[:10]"
   ]
  },
  {
   "cell_type": "code",
   "execution_count": 96,
   "id": "d7f741a8-c2ba-4ccf-b330-7dad04a24f00",
   "metadata": {},
   "outputs": [
    {
     "name": "stdout",
     "output_type": "stream",
     "text": [
      "494\n",
      "C:\\Users\\BKJST\\Desktop\\python\\Project\\skin disease\\output_dataset\\val\\Pigmented Benign Keratosis\\ISIC_0029031.jpg\n",
      "Prediction: Pigmented Benign Keratosis (confidence: 0.48)\n"
     ]
    }
   ],
   "source": [
    "import numpy as np\n",
    "i = np.random.randint(822) # lenght of test data and using randomly. So everytime no need to write path.\n",
    "print(i)\n",
    "path_list = pathlist[i] \n",
    "print(path_list)\n",
    "pred, confidence = predict_image(path_list, cnn_model, test_transform, class_names, device)\n",
    "print(f\"Prediction: {pred} (confidence: {confidence:.2f})\")"
   ]
  },
  {
   "cell_type": "code",
   "execution_count": 97,
   "id": "4a5cc9bd-c15a-4b45-8cec-f99379ce60af",
   "metadata": {},
   "outputs": [],
   "source": [
    "import torch.nn.functional as F\n",
    "\n",
    "y_true = []  # actual labels\n",
    "y_pred = []  # predicted labels\n",
    "y_scores = []\n",
    "cnn_model.to('cpu')\n",
    "for images, labels in test_dataloader:\n",
    "    images = images.to('cpu')\n",
    "    labels = labels.to('cpu')\n",
    "\n",
    "    outputs = cnn_model(images)\n",
    "    _, preds = torch.max(outputs, 1)\n",
    "    y_score = F.softmax(outputs, dim=1).detach().numpy()  # Now each row sums to 1\n",
    "\n",
    "    y_true.extend(labels.cpu().numpy())\n",
    "    y_pred.extend(preds.cpu().numpy())\n",
    "    y_scores.extend(y_score)"
   ]
  },
  {
   "cell_type": "code",
   "execution_count": 98,
   "id": "751518ce-eae8-4aba-80c7-5f0c3fc2a2cf",
   "metadata": {},
   "outputs": [
    {
     "data": {
      "image/png": "[encoded data removed]",
      "text/plain": [
       "<Figure size 800x600 with 2 Axes>"
      ]
     },
     "metadata": {},
     "output_type": "display_data"
    }
   ],
   "source": [
    "# from sklearn.metrics import confusion_matrix\n",
    "import seaborn as sns\n",
    "import matplotlib.pyplot as plt\n",
    "from sklearn.metrics import classification_report, confusion_matrix\n",
    "\n",
    "cm = confusion_matrix(y_true, y_pred)\n",
    "plt.figure(figsize=(8, 6))\n",
    "sns.heatmap(cm, annot=True, fmt='d', cmap='Blues')\n",
    "plt.xlabel(\"Predicted\")\n",
    "plt.ylabel(\"Actual\")\n",
    "plt.title(\"Confusion Matrix\")\n",
    "plt.show()"
   ]
  },
  {
   "cell_type": "markdown",
   "id": "8afb6a9a-0ccb-470e-bdb4-6e885156060b",
   "metadata": {},
   "source": [
    "# Classification report"
   ]
  },
  {
   "cell_type": "code",
   "execution_count": 99,
   "id": "b144f8ce-586f-49c4-b857-5ca46219e5d5",
   "metadata": {},
   "outputs": [
    {
     "name": "stdout",
     "output_type": "stream",
     "text": [
      "                            precision    recall  f1-score   support\n",
      "\n",
      "        Acitinic Keratosis       0.57      0.29      0.38       100\n",
      "      Basal Cell Carcinoma       0.35      0.08      0.13       100\n",
      "            Dermatofibroma       0.22      0.17      0.19        80\n",
      "                  Melanoma       0.43      0.59      0.50       101\n",
      "                     Nevus       0.51      0.55      0.53       100\n",
      "Pigmented Benign Keratosis       0.33      0.87      0.48       100\n",
      "      Seborrheic Keratosis       0.23      0.24      0.23       100\n",
      "   Squamous Cell Carcinoma       0.24      0.12      0.16        83\n",
      "           Vascular Lesion       0.31      0.14      0.19        58\n",
      "\n",
      "                  accuracy                           0.36       822\n",
      "                 macro avg       0.35      0.34      0.31       822\n",
      "              weighted avg       0.36      0.36      0.32       822\n",
      "\n"
     ]
    }
   ],
   "source": [
    "print(classification_report(y_true, y_pred, target_names=class_names))"
   ]
  },
  {
   "cell_type": "code",
   "execution_count": 100,
   "id": "7ee1842c-5774-4e53-9c03-41b4429ac8b1",
   "metadata": {},
   "outputs": [
    {
     "name": "stdout",
     "output_type": "stream",
     "text": [
      "Multiclass ROC AUC: 0.78\n"
     ]
    }
   ],
   "source": [
    "from sklearn.metrics import roc_auc_score\n",
    "\n",
    "\n",
    "auc_score = roc_auc_score(y_true, y_scores, multi_class='ovr', average='macro')\n",
    "print(f\"Multiclass ROC AUC: {auc_score:.2f}\")"
   ]
  },
  {
   "cell_type": "code",
   "execution_count": 101,
   "id": "1971e15a-bfb1-49a3-b339-caa92f622146",
   "metadata": {},
   "outputs": [
    {
     "data": {
      "image/png": "[encoded data removed]",
      "text/plain": [
       "<Figure size 1000x800 with 1 Axes>"
      ]
     },
     "metadata": {},
     "output_type": "display_data"
    }
   ],
   "source": [
    "from sklearn.preprocessing import label_binarize\n",
    "from sklearn.metrics import roc_curve, auc\n",
    "import matplotlib.pyplot as plt\n",
    "import numpy as np\n",
    "\n",
    "\n",
    "# Step 1: Binarize the labels\n",
    "classes = np.unique(y_true)\n",
    "y_true_bin = label_binarize(y_true, classes=classes)\n",
    "\n",
    "# Step 2: Plot ROC curve for each class\n",
    "plt.figure(figsize=(10, 8))\n",
    "for i in range(len(classes)):\n",
    "    fpr, tpr, _ = roc_curve(y_true_bin[i], y_scores[i])\n",
    "    roc_auc = auc(fpr, tpr)\n",
    "    plt.plot(fpr, tpr, label= f'Class {classes[i]} (AUC = {roc_auc:.2f})')\n",
    "\n",
    "# Step 3: Plot formatting\n",
    "plt.plot([0, 1], [0, 1], 'k--', label='Random Guess')\n",
    "plt.xlabel('False Positive Rate')\n",
    "plt.ylabel('True Positive Rate')\n",
    "plt.title('Multiclass ROC Curve (One-vs-Rest)')\n",
    "plt.legend(loc='lower right')\n",
    "plt.grid(True)\n",
    "plt.show()"
   ]
  },
  {
   "cell_type": "markdown",
   "id": "2b0160f7-9b40-41e9-9c30-a2030b869fd6",
   "metadata": {},
   "source": [
    "# Save, laod and predict  with loaded model or saved model."
   ]
  },
  {
   "cell_type": "code",
   "execution_count": 67,
   "id": "e94f31fd-6f73-4c45-9f6a-c89b620df731",
   "metadata": {},
   "outputs": [],
   "source": [
    "torch.save(cnn_model, \"cnn_model_07.pth\")"
   ]
  },
  {
   "cell_type": "code",
   "execution_count": 68,
   "id": "8e4cd090-ecfa-47bb-a334-acf14b2c7a70",
   "metadata": {},
   "outputs": [
    {
     "data": {
      "text/plain": [
       "CNNModel(\n",
       "  (conv_block_1): Sequential(\n",
       "    (0): Conv2d(3, 32, kernel_size=(3, 3), stride=(1, 1), padding=(1, 1))\n",
       "    (1): BatchNorm2d(32, eps=1e-05, momentum=0.1, affine=True, track_running_stats=True)\n",
       "    (2): ReLU()\n",
       "    (3): Conv2d(32, 32, kernel_size=(3, 3), stride=(1, 1), padding=(1, 1))\n",
       "    (4): BatchNorm2d(32, eps=1e-05, momentum=0.1, affine=True, track_running_stats=True)\n",
       "    (5): ReLU()\n",
       "    (6): MaxPool2d(kernel_size=2, stride=2, padding=0, dilation=1, ceil_mode=False)\n",
       "  )\n",
       "  (conv_block_2): Sequential(\n",
       "    (0): Conv2d(32, 32, kernel_size=(3, 3), stride=(1, 1), padding=(1, 1))\n",
       "    (1): BatchNorm2d(32, eps=1e-05, momentum=0.1, affine=True, track_running_stats=True)\n",
       "    (2): ReLU()\n",
       "    (3): Conv2d(32, 32, kernel_size=(3, 3), stride=(1, 1), padding=(1, 1))\n",
       "    (4): BatchNorm2d(32, eps=1e-05, momentum=0.1, affine=True, track_running_stats=True)\n",
       "    (5): ReLU()\n",
       "    (6): MaxPool2d(kernel_size=2, stride=2, padding=0, dilation=1, ceil_mode=False)\n",
       "  )\n",
       "  (global_pool): AdaptiveAvgPool2d(output_size=(1, 1))\n",
       "  (classifier): Sequential(\n",
       "    (0): Flatten(start_dim=1, end_dim=-1)\n",
       "    (1): Linear(in_features=32, out_features=9, bias=True)\n",
       "  )\n",
       ")"
      ]
     },
     "execution_count": 68,
     "metadata": {},
     "output_type": "execute_result"
    }
   ],
   "source": [
    "loaded_cnn = torch.load(\"cnn_model_07.pth\", weights_only = False)\n",
    "loaded_cnn.to(device)"
   ]
  },
  {
   "cell_type": "code",
   "execution_count": 70,
   "id": "f339c382-1949-44a7-9ad2-87ca850bfb94",
   "metadata": {},
   "outputs": [
    {
     "name": "stdout",
     "output_type": "stream",
     "text": [
      "120\n",
      "C:\\Users\\BKJST\\Desktop\\python\\Project\\skin disease\\output_dataset\\val\\Basal Cell Carcinoma\\ISIC_0071515.jpg\n",
      "Prediction: Squamous Cell Carcinoma (confidence: 0.12)\n"
     ]
    }
   ],
   "source": [
    "i = np.random.randint(822)\n",
    "print(i)\n",
    "path_list = pathlist[i]\n",
    "print(path_list)\n",
    "pred, confidence = predict_image(path_list, cnn_model, test_transform, class_names, device)\n",
    "print(f\"Prediction: {pred} (confidence: {confidence:.2f})\")"
   ]
  },
  {
   "cell_type": "markdown",
   "id": "bdba2695-6c45-4958-9083-428e8e7f2020",
   "metadata": {},
   "source": [
    "# Pretrained or Fine tunning"
   ]
  },
  {
   "cell_type": "code",
   "execution_count": 39,
   "id": "f86cdbc9-e718-4b0f-82da-88731d1e453c",
   "metadata": {},
   "outputs": [],
   "source": [
    "from torchvision import models"
   ]
  },
  {
   "cell_type": "code",
   "execution_count": 40,
   "id": "cfc68426-6b51-4d6d-a824-1cdab7e5f85b",
   "metadata": {
    "scrolled": true
   },
   "outputs": [],
   "source": [
    "p_model = models.resnet50(pretrained = True)\n",
    "# p_model"
   ]
  },
  {
   "cell_type": "code",
   "execution_count": 41,
   "id": "bf054620-a185-4354-80f6-dc3940a83840",
   "metadata": {},
   "outputs": [
    {
     "data": {
      "text/plain": [
       "Linear(in_features=2048, out_features=9, bias=True)"
      ]
     },
     "execution_count": 41,
     "metadata": {},
     "output_type": "execute_result"
    }
   ],
   "source": [
    "p_model.fc = nn.Linear(2048, len(class_names))\n",
    "p_model = p_model.to(device)\n",
    "p_model.fc"
   ]
  },
  {
   "cell_type": "code",
   "execution_count": 42,
   "id": "c352162b-f1f5-4d0c-bbe3-f1f70e3bb492",
   "metadata": {},
   "outputs": [
    {
     "data": {
      "application/vnd.jupyter.widget-view+json": {
       "model_id": "d689c8814833484a86226e3b28cd6593",
       "version_major": 2,
       "version_minor": 0
      },
      "text/plain": [
       "  0%|          | 0/9 [00:00<?, ?it/s]"
      ]
     },
     "metadata": {},
     "output_type": "display_data"
    },
    {
     "name": "stdout",
     "output_type": "stream",
     "text": [
      "Epoch 1 | Train Loss: 0.0067 | Test Loss: 0.0001 | Test Accuracy: 25.91%\n",
      "time: 217.23237029998563\n",
      "--------------------------------------------------\n",
      "Epoch 2 | Train Loss: 0.0047 | Test Loss: 0.0007 | Test Accuracy: 44.77%\n",
      "time: 432.0564120000927\n",
      "--------------------------------------------------\n",
      "Epoch 3 | Train Loss: 0.0039 | Test Loss: 0.0020 | Test Accuracy: 56.81%\n",
      "time: 646.0351438000798\n",
      "--------------------------------------------------\n",
      "Epoch 4 | Train Loss: 0.0034 | Test Loss: 0.0015 | Test Accuracy: 60.58%\n",
      "time: 859.7575148000615\n",
      "--------------------------------------------------\n",
      "Epoch 5 | Train Loss: 0.0029 | Test Loss: 0.0011 | Test Accuracy: 57.66%\n",
      "time: 1074.2929428000934\n",
      "--------------------------------------------------\n",
      "Epoch 6 | Train Loss: 0.0024 | Test Loss: 0.0013 | Test Accuracy: 59.37%\n",
      "time: 1286.3799689000007\n",
      "--------------------------------------------------\n",
      "Epoch 7 | Train Loss: 0.0023 | Test Loss: 0.0014 | Test Accuracy: 58.76%\n",
      "time: 1500.6255370000144\n",
      "--------------------------------------------------\n",
      "Epoch 8 | Train Loss: 0.0020 | Test Loss: 0.0015 | Test Accuracy: 59.85%\n",
      "time: 1713.843334400095\n",
      "--------------------------------------------------\n",
      "Epoch 9 | Train Loss: 0.0018 | Test Loss: 0.0009 | Test Accuracy: 61.68%\n",
      "time: 1924.8172718000133\n",
      "--------------------------------------------------\n"
     ]
    }
   ],
   "source": [
    "from tqdm.auto import tqdm\n",
    "from timeit import default_timer as timer\n",
    "\n",
    "criterion = nn.CrossEntropyLoss()\n",
    "optimizer = optim.Adam(p_model.parameters(), lr = 0.001)\n",
    "\n",
    "train_losses, val_losses = [],[]\n",
    "\n",
    "\n",
    "start = timer()\n",
    "for epoch in tqdm(range(9)): # \n",
    "    p_model.train()\n",
    "    running_loss = 0\n",
    "    for images, labels in train_dataloader:\n",
    "        images, labels = images.to(device), labels.to(device)\n",
    "        optimizer.zero_grad()\n",
    "        output = p_model(images)\n",
    "        loss = criterion(output, labels)\n",
    "        loss.backward()\n",
    "        optimizer.step()\n",
    "        running_loss +=loss.item()\n",
    "        train_loss = running_loss/train_length\n",
    "    train_losses.append(train_loss)\n",
    "\n",
    "    # validation\n",
    "    p_model.eval()\n",
    "    val_loss = 0\n",
    "    correct = 0\n",
    "    with torch.no_grad():\n",
    "        for images, labels in test_dataloader:\n",
    "            images, labels = images.to(device), labels.to(device)\n",
    "            output = p_model(images)\n",
    "            val_loss += criterion(output, labels).item()\n",
    "            pred = output.argmax(dim=1)\n",
    "            correct += pred.eq(labels).sum().item()\n",
    "            val_loss = val_loss/ test_length\n",
    "    val_losses.append(val_loss)\n",
    "    end = timer()\n",
    "    print(f\"Epoch {epoch+1} | Train Loss: {train_loss:.4f} | Test Loss: {val_loss:.4f} | Test Accuracy: {correct/test_length*100:.2f}%\")\n",
    "    print(f\"time: {end-start}\")\n",
    "    print(\"-\"*50)"
   ]
  },
  {
   "cell_type": "code",
   "execution_count": 49,
   "id": "16a74eec-ecaa-4276-ae5e-509f48a5d14c",
   "metadata": {},
   "outputs": [
    {
     "name": "stdout",
     "output_type": "stream",
     "text": [
      "34\n",
      "C:\\Users\\BKJST\\Desktop\\python\\Project\\skin disease\\output_dataset\\val\\Acitinic Keratosis\\ISIC_0059360.jpg\n",
      "Prediction: Acitinic Keratosis (confidence: 0.74)\n"
     ]
    }
   ],
   "source": [
    "i = np.random.randint(822)\n",
    "print(i)\n",
    "path_list = pathlist[i]\n",
    "print(path_list)\n",
    "pred, confidence = predict_image(path_list, p_model, test_transform, class_names, device)\n",
    "print(f\"Prediction: {pred} (confidence: {confidence:.2f})\")"
   ]
  },
  {
   "cell_type": "code",
   "execution_count": 50,
   "id": "0eac3188-4880-426f-b85f-bd44e6ec76cc",
   "metadata": {},
   "outputs": [],
   "source": [
    "y_true = []  # actual labels\n",
    "y_pred = []  # predicted labels\n",
    "p_model.to('cpu')\n",
    "for images, labels in test_dataloader:\n",
    "    images = images.to('cpu')\n",
    "    labels = labels.to('cpu')\n",
    "\n",
    "    outputs = p_model(images)\n",
    "    _, preds = torch.max(outputs, 1)\n",
    "\n",
    "    y_true.extend(labels.cpu().numpy())\n",
    "    y_pred.extend(preds.cpu().numpy())"
   ]
  },
  {
   "cell_type": "code",
   "execution_count": 53,
   "id": "ab735632-ece4-4392-a429-0ff9febca6d7",
   "metadata": {},
   "outputs": [
    {
     "data": {
      "image/png": "[encoded data removed]",
      "text/plain": [
       "<Figure size 800x600 with 2 Axes>"
      ]
     },
     "metadata": {},
     "output_type": "display_data"
    }
   ],
   "source": [
    "# from sklearn.metrics import confusion_matrix\n",
    "import seaborn as sns\n",
    "import matplotlib.pyplot as plt\n",
    "\n",
    "cm = confusion_matrix(y_true, y_pred)\n",
    "plt.figure(figsize=(8, 6))\n",
    "sns.heatmap(cm, annot=True, fmt='d', cmap='Blues')\n",
    "plt.xlabel(\"Predicted\")\n",
    "plt.ylabel(\"Actual\")\n",
    "plt.title(\"Confusion Matrix\")\n",
    "plt.show()"
   ]
  },
  {
   "cell_type": "code",
   "execution_count": 54,
   "id": "6b536b62-871e-4953-8116-b7e9a9de943d",
   "metadata": {},
   "outputs": [
    {
     "name": "stdout",
     "output_type": "stream",
     "text": [
      "                            precision    recall  f1-score   support\n",
      "\n",
      "        Acitinic Keratosis       0.65      0.52      0.58       100\n",
      "      Basal Cell Carcinoma       0.39      0.62      0.48       100\n",
      "            Dermatofibroma       0.56      0.72      0.63        80\n",
      "                  Melanoma       0.63      0.61      0.62       101\n",
      "                     Nevus       0.72      0.87      0.79       100\n",
      "Pigmented Benign Keratosis       0.82      0.67      0.74       100\n",
      "      Seborrheic Keratosis       0.63      0.22      0.33       100\n",
      "   Squamous Cell Carcinoma       0.59      0.58      0.58        83\n",
      "           Vascular Lesion       0.77      0.84      0.80        58\n",
      "\n",
      "                  accuracy                           0.62       822\n",
      "                 macro avg       0.64      0.63      0.62       822\n",
      "              weighted avg       0.64      0.62      0.61       822\n",
      "\n"
     ]
    }
   ],
   "source": [
    "from sklearn.metrics import classification_report\n",
    "\n",
    "print(classification_report(y_true, y_pred, target_names=class_names))"
   ]
  },
  {
   "cell_type": "code",
   "execution_count": 56,
   "id": "b52d6be1-5efd-42eb-b20e-77766542c553",
   "metadata": {},
   "outputs": [],
   "source": [
    "torch.save(p_model, 'resnet_model_07.pth') # save model"
   ]
  },
  {
   "cell_type": "code",
   "execution_count": 65,
   "id": "47cf07b2-92a4-4e2d-bdc2-52d361cc0084",
   "metadata": {},
   "outputs": [
    {
     "data": {
      "text/plain": [
       "ResNet(\n",
       "  (conv1): Conv2d(3, 64, kernel_size=(7, 7), stride=(2, 2), padding=(3, 3), bias=False)\n",
       "  (bn1): BatchNorm2d(64, eps=1e-05, momentum=0.1, affine=True, track_running_stats=True)\n",
       "  (relu): ReLU(inplace=True)\n",
       "  (maxpool): MaxPool2d(kernel_size=3, stride=2, padding=1, dilation=1, ceil_mode=False)\n",
       "  (layer1): Sequential(\n",
       "    (0): Bottleneck(\n",
       "      (conv1): Conv2d(64, 64, kernel_size=(1, 1), stride=(1, 1), bias=False)\n",
       "      (bn1): BatchNorm2d(64, eps=1e-05, momentum=0.1, affine=True, track_running_stats=True)\n",
       "      (conv2): Conv2d(64, 64, kernel_size=(3, 3), stride=(1, 1), padding=(1, 1), bias=False)\n",
       "      (bn2): BatchNorm2d(64, eps=1e-05, momentum=0.1, affine=True, track_running_stats=True)\n",
       "      (conv3): Conv2d(64, 256, kernel_size=(1, 1), stride=(1, 1), bias=False)\n",
       "      (bn3): BatchNorm2d(256, eps=1e-05, momentum=0.1, affine=True, track_running_stats=True)\n",
       "      (relu): ReLU(inplace=True)\n",
       "      (downsample): Sequential(\n",
       "        (0): Conv2d(64, 256, kernel_size=(1, 1), stride=(1, 1), bias=False)\n",
       "        (1): BatchNorm2d(256, eps=1e-05, momentum=0.1, affine=True, track_running_stats=True)\n",
       "      )\n",
       "    )\n",
       "    (1): Bottleneck(\n",
       "      (conv1): Conv2d(256, 64, kernel_size=(1, 1), stride=(1, 1), bias=False)\n",
       "      (bn1): BatchNorm2d(64, eps=1e-05, momentum=0.1, affine=True, track_running_stats=True)\n",
       "      (conv2): Conv2d(64, 64, kernel_size=(3, 3), stride=(1, 1), padding=(1, 1), bias=False)\n",
       "      (bn2): BatchNorm2d(64, eps=1e-05, momentum=0.1, affine=True, track_running_stats=True)\n",
       "      (conv3): Conv2d(64, 256, kernel_size=(1, 1), stride=(1, 1), bias=False)\n",
       "      (bn3): BatchNorm2d(256, eps=1e-05, momentum=0.1, affine=True, track_running_stats=True)\n",
       "      (relu): ReLU(inplace=True)\n",
       "    )\n",
       "    (2): Bottleneck(\n",
       "      (conv1): Conv2d(256, 64, kernel_size=(1, 1), stride=(1, 1), bias=False)\n",
       "      (bn1): BatchNorm2d(64, eps=1e-05, momentum=0.1, affine=True, track_running_stats=True)\n",
       "      (conv2): Conv2d(64, 64, kernel_size=(3, 3), stride=(1, 1), padding=(1, 1), bias=False)\n",
       "      (bn2): BatchNorm2d(64, eps=1e-05, momentum=0.1, affine=True, track_running_stats=True)\n",
       "      (conv3): Conv2d(64, 256, kernel_size=(1, 1), stride=(1, 1), bias=False)\n",
       "      (bn3): BatchNorm2d(256, eps=1e-05, momentum=0.1, affine=True, track_running_stats=True)\n",
       "      (relu): ReLU(inplace=True)\n",
       "    )\n",
       "  )\n",
       "  (layer2): Sequential(\n",
       "    (0): Bottleneck(\n",
       "      (conv1): Conv2d(256, 128, kernel_size=(1, 1), stride=(1, 1), bias=False)\n",
       "      (bn1): BatchNorm2d(128, eps=1e-05, momentum=0.1, affine=True, track_running_stats=True)\n",
       "      (conv2): Conv2d(128, 128, kernel_size=(3, 3), stride=(2, 2), padding=(1, 1), bias=False)\n",
       "      (bn2): BatchNorm2d(128, eps=1e-05, momentum=0.1, affine=True, track_running_stats=True)\n",
       "      (conv3): Conv2d(128, 512, kernel_size=(1, 1), stride=(1, 1), bias=False)\n",
       "      (bn3): BatchNorm2d(512, eps=1e-05, momentum=0.1, affine=True, track_running_stats=True)\n",
       "      (relu): ReLU(inplace=True)\n",
       "      (downsample): Sequential(\n",
       "        (0): Conv2d(256, 512, kernel_size=(1, 1), stride=(2, 2), bias=False)\n",
       "        (1): BatchNorm2d(512, eps=1e-05, momentum=0.1, affine=True, track_running_stats=True)\n",
       "      )\n",
       "    )\n",
       "    (1): Bottleneck(\n",
       "      (conv1): Conv2d(512, 128, kernel_size=(1, 1), stride=(1, 1), bias=False)\n",
       "      (bn1): BatchNorm2d(128, eps=1e-05, momentum=0.1, affine=True, track_running_stats=True)\n",
       "      (conv2): Conv2d(128, 128, kernel_size=(3, 3), stride=(1, 1), padding=(1, 1), bias=False)\n",
       "      (bn2): BatchNorm2d(128, eps=1e-05, momentum=0.1, affine=True, track_running_stats=True)\n",
       "      (conv3): Conv2d(128, 512, kernel_size=(1, 1), stride=(1, 1), bias=False)\n",
       "      (bn3): BatchNorm2d(512, eps=1e-05, momentum=0.1, affine=True, track_running_stats=True)\n",
       "      (relu): ReLU(inplace=True)\n",
       "    )\n",
       "    (2): Bottleneck(\n",
       "      (conv1): Conv2d(512, 128, kernel_size=(1, 1), stride=(1, 1), bias=False)\n",
       "      (bn1): BatchNorm2d(128, eps=1e-05, momentum=0.1, affine=True, track_running_stats=True)\n",
       "      (conv2): Conv2d(128, 128, kernel_size=(3, 3), stride=(1, 1), padding=(1, 1), bias=False)\n",
       "      (bn2): BatchNorm2d(128, eps=1e-05, momentum=0.1, affine=True, track_running_stats=True)\n",
       "      (conv3): Conv2d(128, 512, kernel_size=(1, 1), stride=(1, 1), bias=False)\n",
       "      (bn3): BatchNorm2d(512, eps=1e-05, momentum=0.1, affine=True, track_running_stats=True)\n",
       "      (relu): ReLU(inplace=True)\n",
       "    )\n",
       "    (3): Bottleneck(\n",
       "      (conv1): Conv2d(512, 128, kernel_size=(1, 1), stride=(1, 1), bias=False)\n",
       "      (bn1): BatchNorm2d(128, eps=1e-05, momentum=0.1, affine=True, track_running_stats=True)\n",
       "      (conv2): Conv2d(128, 128, kernel_size=(3, 3), stride=(1, 1), padding=(1, 1), bias=False)\n",
       "      (bn2): BatchNorm2d(128, eps=1e-05, momentum=0.1, affine=True, track_running_stats=True)\n",
       "      (conv3): Conv2d(128, 512, kernel_size=(1, 1), stride=(1, 1), bias=False)\n",
       "      (bn3): BatchNorm2d(512, eps=1e-05, momentum=0.1, affine=True, track_running_stats=True)\n",
       "      (relu): ReLU(inplace=True)\n",
       "    )\n",
       "  )\n",
       "  (layer3): Sequential(\n",
       "    (0): Bottleneck(\n",
       "      (conv1): Conv2d(512, 256, kernel_size=(1, 1), stride=(1, 1), bias=False)\n",
       "      (bn1): BatchNorm2d(256, eps=1e-05, momentum=0.1, affine=True, track_running_stats=True)\n",
       "      (conv2): Conv2d(256, 256, kernel_size=(3, 3), stride=(2, 2), padding=(1, 1), bias=False)\n",
       "      (bn2): BatchNorm2d(256, eps=1e-05, momentum=0.1, affine=True, track_running_stats=True)\n",
       "      (conv3): Conv2d(256, 1024, kernel_size=(1, 1), stride=(1, 1), bias=False)\n",
       "      (bn3): BatchNorm2d(1024, eps=1e-05, momentum=0.1, affine=True, track_running_stats=True)\n",
       "      (relu): ReLU(inplace=True)\n",
       "      (downsample): Sequential(\n",
       "        (0): Conv2d(512, 1024, kernel_size=(1, 1), stride=(2, 2), bias=False)\n",
       "        (1): BatchNorm2d(1024, eps=1e-05, momentum=0.1, affine=True, track_running_stats=True)\n",
       "      )\n",
       "    )\n",
       "    (1): Bottleneck(\n",
       "      (conv1): Conv2d(1024, 256, kernel_size=(1, 1), stride=(1, 1), bias=False)\n",
       "      (bn1): BatchNorm2d(256, eps=1e-05, momentum=0.1, affine=True, track_running_stats=True)\n",
       "      (conv2): Conv2d(256, 256, kernel_size=(3, 3), stride=(1, 1), padding=(1, 1), bias=False)\n",
       "      (bn2): BatchNorm2d(256, eps=1e-05, momentum=0.1, affine=True, track_running_stats=True)\n",
       "      (conv3): Conv2d(256, 1024, kernel_size=(1, 1), stride=(1, 1), bias=False)\n",
       "      (bn3): BatchNorm2d(1024, eps=1e-05, momentum=0.1, affine=True, track_running_stats=True)\n",
       "      (relu): ReLU(inplace=True)\n",
       "    )\n",
       "    (2): Bottleneck(\n",
       "      (conv1): Conv2d(1024, 256, kernel_size=(1, 1), stride=(1, 1), bias=False)\n",
       "      (bn1): BatchNorm2d(256, eps=1e-05, momentum=0.1, affine=True, track_running_stats=True)\n",
       "      (conv2): Conv2d(256, 256, kernel_size=(3, 3), stride=(1, 1), padding=(1, 1), bias=False)\n",
       "      (bn2): BatchNorm2d(256, eps=1e-05, momentum=0.1, affine=True, track_running_stats=True)\n",
       "      (conv3): Conv2d(256, 1024, kernel_size=(1, 1), stride=(1, 1), bias=False)\n",
       "      (bn3): BatchNorm2d(1024, eps=1e-05, momentum=0.1, affine=True, track_running_stats=True)\n",
       "      (relu): ReLU(inplace=True)\n",
       "    )\n",
       "    (3): Bottleneck(\n",
       "      (conv1): Conv2d(1024, 256, kernel_size=(1, 1), stride=(1, 1), bias=False)\n",
       "      (bn1): BatchNorm2d(256, eps=1e-05, momentum=0.1, affine=True, track_running_stats=True)\n",
       "      (conv2): Conv2d(256, 256, kernel_size=(3, 3), stride=(1, 1), padding=(1, 1), bias=False)\n",
       "      (bn2): BatchNorm2d(256, eps=1e-05, momentum=0.1, affine=True, track_running_stats=True)\n",
       "      (conv3): Conv2d(256, 1024, kernel_size=(1, 1), stride=(1, 1), bias=False)\n",
       "      (bn3): BatchNorm2d(1024, eps=1e-05, momentum=0.1, affine=True, track_running_stats=True)\n",
       "      (relu): ReLU(inplace=True)\n",
       "    )\n",
       "    (4): Bottleneck(\n",
       "      (conv1): Conv2d(1024, 256, kernel_size=(1, 1), stride=(1, 1), bias=False)\n",
       "      (bn1): BatchNorm2d(256, eps=1e-05, momentum=0.1, affine=True, track_running_stats=True)\n",
       "      (conv2): Conv2d(256, 256, kernel_size=(3, 3), stride=(1, 1), padding=(1, 1), bias=False)\n",
       "      (bn2): BatchNorm2d(256, eps=1e-05, momentum=0.1, affine=True, track_running_stats=True)\n",
       "      (conv3): Conv2d(256, 1024, kernel_size=(1, 1), stride=(1, 1), bias=False)\n",
       "      (bn3): BatchNorm2d(1024, eps=1e-05, momentum=0.1, affine=True, track_running_stats=True)\n",
       "      (relu): ReLU(inplace=True)\n",
       "    )\n",
       "    (5): Bottleneck(\n",
       "      (conv1): Conv2d(1024, 256, kernel_size=(1, 1), stride=(1, 1), bias=False)\n",
       "      (bn1): BatchNorm2d(256, eps=1e-05, momentum=0.1, affine=True, track_running_stats=True)\n",
       "      (conv2): Conv2d(256, 256, kernel_size=(3, 3), stride=(1, 1), padding=(1, 1), bias=False)\n",
       "      (bn2): BatchNorm2d(256, eps=1e-05, momentum=0.1, affine=True, track_running_stats=True)\n",
       "      (conv3): Conv2d(256, 1024, kernel_size=(1, 1), stride=(1, 1), bias=False)\n",
       "      (bn3): BatchNorm2d(1024, eps=1e-05, momentum=0.1, affine=True, track_running_stats=True)\n",
       "      (relu): ReLU(inplace=True)\n",
       "    )\n",
       "  )\n",
       "  (layer4): Sequential(\n",
       "    (0): Bottleneck(\n",
       "      (conv1): Conv2d(1024, 512, kernel_size=(1, 1), stride=(1, 1), bias=False)\n",
       "      (bn1): BatchNorm2d(512, eps=1e-05, momentum=0.1, affine=True, track_running_stats=True)\n",
       "      (conv2): Conv2d(512, 512, kernel_size=(3, 3), stride=(2, 2), padding=(1, 1), bias=False)\n",
       "      (bn2): BatchNorm2d(512, eps=1e-05, momentum=0.1, affine=True, track_running_stats=True)\n",
       "      (conv3): Conv2d(512, 2048, kernel_size=(1, 1), stride=(1, 1), bias=False)\n",
       "      (bn3): BatchNorm2d(2048, eps=1e-05, momentum=0.1, affine=True, track_running_stats=True)\n",
       "      (relu): ReLU(inplace=True)\n",
       "      (downsample): Sequential(\n",
       "        (0): Conv2d(1024, 2048, kernel_size=(1, 1), stride=(2, 2), bias=False)\n",
       "        (1): BatchNorm2d(2048, eps=1e-05, momentum=0.1, affine=True, track_running_stats=True)\n",
       "      )\n",
       "    )\n",
       "    (1): Bottleneck(\n",
       "      (conv1): Conv2d(2048, 512, kernel_size=(1, 1), stride=(1, 1), bias=False)\n",
       "      (bn1): BatchNorm2d(512, eps=1e-05, momentum=0.1, affine=True, track_running_stats=True)\n",
       "      (conv2): Conv2d(512, 512, kernel_size=(3, 3), stride=(1, 1), padding=(1, 1), bias=False)\n",
       "      (bn2): BatchNorm2d(512, eps=1e-05, momentum=0.1, affine=True, track_running_stats=True)\n",
       "      (conv3): Conv2d(512, 2048, kernel_size=(1, 1), stride=(1, 1), bias=False)\n",
       "      (bn3): BatchNorm2d(2048, eps=1e-05, momentum=0.1, affine=True, track_running_stats=True)\n",
       "      (relu): ReLU(inplace=True)\n",
       "    )\n",
       "    (2): Bottleneck(\n",
       "      (conv1): Conv2d(2048, 512, kernel_size=(1, 1), stride=(1, 1), bias=False)\n",
       "      (bn1): BatchNorm2d(512, eps=1e-05, momentum=0.1, affine=True, track_running_stats=True)\n",
       "      (conv2): Conv2d(512, 512, kernel_size=(3, 3), stride=(1, 1), padding=(1, 1), bias=False)\n",
       "      (bn2): BatchNorm2d(512, eps=1e-05, momentum=0.1, affine=True, track_running_stats=True)\n",
       "      (conv3): Conv2d(512, 2048, kernel_size=(1, 1), stride=(1, 1), bias=False)\n",
       "      (bn3): BatchNorm2d(2048, eps=1e-05, momentum=0.1, affine=True, track_running_stats=True)\n",
       "      (relu): ReLU(inplace=True)\n",
       "    )\n",
       "  )\n",
       "  (avgpool): AdaptiveAvgPool2d(output_size=(1, 1))\n",
       "  (fc): Linear(in_features=2048, out_features=9, bias=True)\n",
       ")"
      ]
     },
     "execution_count": 65,
     "metadata": {},
     "output_type": "execute_result"
    }
   ],
   "source": [
    "loaded_p_model = torch.load('resnet_model_07.pth', weights_only = False) # load model\n",
    "loaded_p_model.to(device)"
   ]
  },
  {
   "cell_type": "code",
   "execution_count": 107,
   "id": "299b9ee6-4c6d-463e-a3f3-28ff93f5892a",
   "metadata": {},
   "outputs": [
    {
     "name": "stdout",
     "output_type": "stream",
     "text": [
      "614\n",
      "C:\\Users\\BKJST\\Desktop\\python\\Project\\skin disease\\output_dataset\\val\\Seborrheic Keratosis\\ISIC_0065772.jpg\n",
      "Prediction: Seborrheic Keratosis (confidence: 0.67)\n"
     ]
    }
   ],
   "source": [
    "i = np.random.randint(822) # this is code redundency. But this is for trial and testing purposes.\n",
    "print(i)                   # So i am using same code multiple time because if used here then without define it will return same index.\n",
    "path_list = pathlist[i]    # if we define function then still we have to inter data path. So for this proble this is not bad.\n",
    "print(path_list) \n",
    "pred, confidence = predict_image(path_list, loaded_p_model, test_transform, class_names, device) # predict with loaded model\n",
    "print(f\"Prediction: {pred} (confidence: {confidence:.2f})\")"
   ]
  },
  {
   "cell_type": "markdown",
   "id": "a1e38817-5037-4c8c-b35b-7d686e06c39e",
   "metadata": {},
   "source": [
    "### i am using jupyter notebook for research purposes. so code redundancy will ocuurs."
   ]
  },
  {
   "cell_type": "markdown",
   "id": "b6024c57-3c47-4916-b2c6-19460d42c85a",
   "metadata": {},
   "source": [
    "# Conclusion."
   ]
  },
  {
   "cell_type": "markdown",
   "id": "beca681c-28d2-46e5-9c49-16dabfa1b55a",
   "metadata": {},
   "source": [
    "We had to develop a model that can classify skin disease. Which i did as much as possible with this dataset and based on my\n",
    "knowledge. In future i will also work on this project, and release other version.\n",
    "here i used two model \n",
    "* 1. CNN from Scratch.\n",
    "  2. Pretrained model (Resnet50)\n",
    "\n",
    "  CNN model not performed as expected.\n",
    "  Resnet50 also not performed as much as expected. But Better than CNN model. Because we have less amount of data so we not bad. we will try in future."
   ]
  },
  {
   "cell_type": "code",
   "execution_count": null,
   "id": "6a36eb15-42bf-465e-9ea6-7f07ea325d6f",
   "metadata": {},
   "outputs": [],
   "source": []
  }
 ],
 "metadata": {
  "kernelspec": {
   "display_name": "Python 3 (ipykernel)",
   "language": "python",
   "name": "python3"
  },
  "language_info": {
   "codemirror_mode": {
    "name": "ipython",
    "version": 3
   },
   "file_extension": ".py",
   "mimetype": "text/x-python",
   "name": "python",
   "nbconvert_exporter": "python",
   "pygments_lexer": "ipython3",
   "version": "3.10.10"
  }
 },
 "nbformat": 4,
 "nbformat_minor": 5
}
